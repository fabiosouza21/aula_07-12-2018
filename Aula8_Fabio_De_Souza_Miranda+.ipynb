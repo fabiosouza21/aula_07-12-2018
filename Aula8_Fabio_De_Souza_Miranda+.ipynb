{
 "cells": [
  {
   "cell_type": "code",
   "execution_count": 3,
   "metadata": {},
   "outputs": [
    {
     "name": "stdout",
     "output_type": "stream",
     "text": [
      "[-3  5  0]\n"
     ]
    }
   ],
   "source": [
    "import numpy as np\n",
    "def resolucao (a,b,n):\n",
    "    x=np.arange(n)\n",
    "    x[n-1]=b[n-1]/a[n-1][n-1]\n",
    "    #rint(x[2])\n",
    "    #rint(n)\n",
    "    for k in range(n-2,-1,-1):\n",
    "        s=0\n",
    "        for j in range(k+1,n):\n",
    "            s=s+a[k][j]*x[j]\n",
    "            x[k]=(b[k]-s)/a[k][k]\n",
    "    print(x)         \n",
    "            \n",
    "            \n",
    "\n",
    "    \n",
    "    \n",
    "\n",
    "a=[[3,2,4],[0,1/3,2/3],[0,0,-8]]\n",
    "b=[1,5/3,0]\n",
    "n=len(b)\n",
    "#rint(n)\n",
    "resolucao(a,b,n)\n"
   ]
  },
  {
   "cell_type": "code",
   "execution_count": 40,
   "metadata": {},
   "outputs": [],
   "source": [
    "def Det(A):\n",
    "    ultimo_indice=(len(a)-1)\n",
    "    d_principal=1\n",
    "    d_secudaria=1\n",
    "    for i in range(n):\n",
    "        d_principal=d_principal*A[i][i]\n",
    "        d_secudaria=d_secudaria*A[i][ultimo_indice-i]\n",
    "    det=d_principal-d_secudaria\n",
    "    if det==0:\n",
    "         print('erro nao é possivel fazer eliminação de gasss determinante = 0')\n",
    "    else:\n",
    "          A,b=eliminacao(A,b,n)\n",
    "    return(det)"
   ]
  },
  {
   "cell_type": "code",
   "execution_count": 53,
   "metadata": {},
   "outputs": [],
   "source": [
    "def pivotamento(a,k,b):\n",
    "    maxi=abs(a[k][k])\n",
    "    linha=0\n",
    "    for i in range(len(a)):\n",
    "        if maxi<abs(a[i][k]):\n",
    "            maxi=a[i][k]\n",
    "            linha=i\n",
    "    if i !=0:\n",
    "        for i in range(len(a)):\n",
    "            a[k][i],a[linha][i]=a[linha][i],a[k][i]\n",
    "        b[k],b[linha]=b[linha], b[k]\n",
    "    print(a)\n",
    "    \n",
    "        "
   ]
  },
  {
   "cell_type": "code",
   "execution_count": 54,
   "metadata": {},
   "outputs": [
    {
     "name": "stdout",
     "output_type": "stream",
     "text": [
      "[[4, 3, -2], [1, 1, 2], [3, 2, 4]]\n",
      "[-3  5  0]\n"
     ]
    }
   ],
   "source": [
    "    \n",
    "    def eliminacao(a,b,n):\n",
    "        for k in range(n):\n",
    "            pivotamento(a,k,b)\n",
    "            if a[k][k]==0:\n",
    "                print(\"erro\")\n",
    "            else:\n",
    "                for i in range(k+1,n):\n",
    "                    m=(a[i][k])/a[k][k]\n",
    "                    a[i][k]=0\n",
    "                    for j in range(k+1,n):\n",
    "                        a[i][j]=a[i][j]-(m*a[k][j])\n",
    "                        '''print('->k',k)\n",
    "                        print('-->i',i)\n",
    "                        print('--->j',j)'''\n",
    "                    #print('->',b)\n",
    "                    b[i]=b[i]-(m*b[k])\n",
    "                    #print('-->',b[i])\n",
    "                #print(b)\n",
    "            #print('matriz final interaçao de k---->',a)\n",
    "        \n",
    "            #print('vetor final interaçao de k-->',b)\n",
    "            return(a,b)\n",
    "    \n",
    "    \n",
    "    \n",
    "A = ([ [3, 2, 4], [1, 1, 2], [4, 3, -2] ])\n",
    "b =  ([ 1, 2, 3 ] )\n",
    "n=len(b)\n",
    "ultimo_indice=n-1\n",
    "d_principal=1\n",
    "d_secudaria=1\n",
    "for i in range(n):\n",
    "        d_principal=d_principal*A[i][i]\n",
    "        d_secudaria=d_secudaria*A[i][ultimo_indice-i]\n",
    "det=d_principal-d_secudaria\n",
    "if det==0:\n",
    "         print('erro nao é possivel fazer eliminação de gasss determinante = 0')\n",
    "else:\n",
    "          A,b=eliminacao(A,b,n)\n",
    "\n",
    "\n",
    "    \n",
    "    \n",
    "    \n",
    "\n",
    "resolucao(A,b,n)\n"
   ]
  }
 ],
 "metadata": {
  "kernelspec": {
   "display_name": "Python 3",
   "language": "python",
   "name": "python3"
  },
  "language_info": {
   "codemirror_mode": {
    "name": "ipython",
    "version": 3
   },
   "file_extension": ".py",
   "mimetype": "text/x-python",
   "name": "python",
   "nbconvert_exporter": "python",
   "pygments_lexer": "ipython3",
   "version": "3.6.5"
  }
 },
 "nbformat": 4,
 "nbformat_minor": 2
}
