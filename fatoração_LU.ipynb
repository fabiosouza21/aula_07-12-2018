{
 "cells": [
  {
   "cell_type": "code",
   "execution_count": 1,
   "metadata": {},
   "outputs": [],
   "source": [
    "import numpy as np\n",
    "\n",
    "            \n"
   ]
  },
  {
   "cell_type": "code",
   "execution_count": 128,
   "metadata": {},
   "outputs": [],
   "source": [
    "def resolucao_triagular_superior (a,b,n):\n",
    "    x=np.arange(n)\n",
    "    x[n-1]=b[n-1]/a[n-1][n-1]\n",
    "    for k in range(n-2,-1,-1):\n",
    "        s=0\n",
    "        for j in range(k+1,n):\n",
    "            s=s+a[k][j]*x[j]\n",
    "            x[k]=(b[k]-s)/a[k][k]\n",
    "    return(x)         \n",
    "            "
   ]
  },
  {
   "cell_type": "code",
   "execution_count": 163,
   "metadata": {},
   "outputs": [],
   "source": [
    "def resolucao_triagular_inferior (a,b,n):\n",
    "    x=np.arange(n)\n",
    "    x[0]=b[0]/a[0][0]\n",
    "    for k in range(1,n):\n",
    "        s=0\n",
    "        for j in range(n-1,-1,-1):\n",
    "            print(j,k)\n",
    "            s=s+a[k][j]*x[j]\n",
    "            x[k]=(b[k]-s)/a[k][k]\n",
    "\n",
    "    return(x)         \n",
    "            "
   ]
  },
  {
   "cell_type": "code",
   "execution_count": 98,
   "metadata": {},
   "outputs": [],
   "source": [
    "def pivotar(a,b,k):\n",
    "    maxi=abs(a[k][k])\n",
    "    linha=0\n",
    "    for i in range(k+1,len(a)):\n",
    "        if maxi<abs(a[i][k]):\n",
    "            maxi=a[i][k]\n",
    "            linha=i\n",
    "    if linha !=0:\n",
    "       # print('antes',a)\n",
    "        for i in range(len(a)):\n",
    "            a[k][i],a[linha][i]=a[linha][i],a[k][i]\n",
    "        b[k],b[linha]=b[linha], b[k]\n",
    "    return(a,b)\n",
    "    \n",
    "        "
   ]
  },
  {
   "cell_type": "code",
   "execution_count": 105,
   "metadata": {},
   "outputs": [],
   "source": [
    "  def eliminacao(a,L,b,n,booll):\n",
    "        for k in range(n):          \n",
    "            #a,b=pivotar(a,b,k)\n",
    "            if a[k][k]==0:\n",
    "                print('erro')\n",
    "                booll=1\n",
    "                break\n",
    "            for i in range(k+1,n):\n",
    "                if(k<n):\n",
    "                    if (a[k][k+1]==0):\n",
    "                        #print('oioooi')\n",
    "                        continue\n",
    "                m=(a[i][k])/a[k][k]\n",
    "                a[i][k]=0\n",
    "                L[i][k]=m\n",
    "                for j in range(k+1,n):\n",
    "                    a[i][j]=a[i][j]-(m*a[k][j])\n",
    "                    '''print('->k',valor de k)\n",
    "                    print('-->i', valor de i)\n",
    "                    print('--->j',valor de j)'''\n",
    "                #print(b)\n",
    "                b[i]=b[i]-(m*b[k])\n",
    "                #print('vetor final interaçao de k',b)\n",
    "        return(a,L,b,booll)"
   ]
  },
  {
   "cell_type": "code",
   "execution_count": 40,
   "metadata": {},
   "outputs": [],
   "source": [
    "def print_matriz(A):\n",
    "     for i in range(len(A)):\n",
    "        for j in range(len(A)):\n",
    "            print(A[i][j],end=' ')\n",
    "        print()"
   ]
  },
  {
   "cell_type": "code",
   "execution_count": 164,
   "metadata": {},
   "outputs": [
    {
     "name": "stdout",
     "output_type": "stream",
     "text": [
      "2 1\n",
      "1 1\n",
      "0 1\n",
      "2 2\n",
      "1 2\n",
      "0 2\n",
      "[ 3 -6 -4]\n"
     ]
    }
   ],
   "source": [
    "booll=0\n",
    "A = ([[1,2,1],[2,-3,-1],[3,-1,-2] ])\n",
    "b =  ([3,4,1 ] )\n",
    "c=np.copy(b)\n",
    "n=len(b)\n",
    "det = np.linalg.det(A)\n",
    "L=np . identity ( 3 )\n",
    "n=len(b)\n",
    "if det==0:\n",
    "         print('erro nao é possivel fazer eliminação de gasss determinante = 0')\n",
    "else:\n",
    "    A,L,b,booll=eliminacao(A,L,b,n,booll)\n",
    "    #print( print_matriz(A))\n",
    "    #print(x)\n",
    "    \n",
    "    \n",
    "    if booll==0:\n",
    "        x = np.linalg.solve(A,b)\n",
    "        y=resolucao_triagular_inferior(L,c,n)\n",
    "        print(y)\n",
    "        #print(x)\n",
    "        #print( resolucao_triagular_inferior(A,y,n))\n",
    "        "
   ]
  }
 ],
 "metadata": {
  "kernelspec": {
   "display_name": "Python 3",
   "language": "python",
   "name": "python3"
  },
  "language_info": {
   "codemirror_mode": {
    "name": "ipython",
    "version": 3
   },
   "file_extension": ".py",
   "mimetype": "text/x-python",
   "name": "python",
   "nbconvert_exporter": "python",
   "pygments_lexer": "ipython3",
   "version": "3.6.5"
  }
 },
 "nbformat": 4,
 "nbformat_minor": 2
}
