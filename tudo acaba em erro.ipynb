{
 "cells": [
  {
   "cell_type": "code",
   "execution_count": 125,
   "metadata": {},
   "outputs": [],
   "source": [
    "import numpy as np\n",
    "import math\n",
    "def resolucao (a,b,n):\n",
    "    x=np.arange(0,n-1,0.9)\n",
    "    if(a[n-1][n-1]==0):\n",
    "        x[n-1]=0\n",
    "    else:\n",
    "        x[n-1]=b[n-1]/a[n-1][n-1]\n",
    "    #rint(x[2])\n",
    "    #rint(n)\n",
    "    for k in range(n-2,-1,-1):\n",
    "        s=0\n",
    "        for j in range(k+1,n):\n",
    "            s=s+a[k][j]*x[j]\n",
    "            x[k]=((b[k]-s)/a[k][k])\n",
    "    print('valores que resolvem o sistema',x)         "
   ]
  },
  {
   "cell_type": "code",
   "execution_count": 126,
   "metadata": {},
   "outputs": [],
   "source": [
    "def pivotar(a,b,k):\n",
    "    maxi=abs(a[k][k])\n",
    "    linha=0\n",
    "    for i in range(k+1,len(a)):\n",
    "        if maxi<abs(a[i][k]):\n",
    "            maxi=a[i][k]\n",
    "            linha=i\n",
    "    if linha !=0:\n",
    "       # print('antes',a)\n",
    "        for i in range(len(a)):\n",
    "            a[k][i],a[linha][i]=a[linha][i],a[k][i]\n",
    "        b[k],b[linha]=b[linha], b[k]\n",
    "    return(a,b)\n",
    "    \n",
    "        "
   ]
  },
  {
   "cell_type": "code",
   "execution_count": 132,
   "metadata": {},
   "outputs": [],
   "source": [
    "    \n",
    "    def eliminacao(a,b,n,booll):\n",
    "        for k in range(n):          \n",
    "            if booll == 1:\n",
    "                print('oiii')\n",
    "                a,b=pivotar(a,b,k)\n",
    "            if a[k][k]==0:\n",
    "                print('erro')\n",
    "                booll=1\n",
    "                break\n",
    "            for i in range(k+1,n):\n",
    "                if(k<n):\n",
    "                    if (a[k][k+1]==0):\n",
    "                        #print('oioooi')\n",
    "                        continue\n",
    "                m=(a[i][k])/a[k][k]\n",
    "                a[i][k]=0\n",
    "                for j in range(k+1,n):\n",
    "                    a[i][j]=(a[i][j]-(m*a[k][j]))\n",
    "                    '''print('->k',valor de k)\n",
    "                    print('-->i', valor de i)\n",
    "                    print('--->j',valor de j)'''\n",
    "                #print(b)\n",
    "                b[i]=((b[i]-(m*b[k])))\n",
    "                #print('vetor final interaçao de k',b)\n",
    "        simulador(a,b)\n",
    "        return(a,b,booll)\n",
    "    \n",
    "    \n",
    "    \n",
    "   \n"
   ]
  },
  {
   "cell_type": "code",
   "execution_count": null,
   "metadata": {},
   "outputs": [],
   "source": []
  },
  {
   "cell_type": "code",
   "execution_count": 104,
   "metadata": {},
   "outputs": [],
   "source": [
    "def truncar(valor,base=10,limiteSuperior=10,limiteInferior=4):\n",
    "    verificar=0\n",
    "    sinal=1\n",
    "    if (valor<0):\n",
    "        sinal=-1\n",
    "    valor=abs(valor)\n",
    "    valor_t=valor\n",
    "    if(valor==0):\n",
    "        return(0,0)\n",
    "    else:\n",
    "        if(valor<1):\n",
    "            while(valor_t<1):\n",
    "                valor_t=valor_t*10\n",
    "                verificar=verificar+1\n",
    "                valor=valor*base**limiteInferior\n",
    "                valor=math.floor(valor)\n",
    "                valor=valor*base**-limiteInferior\n",
    "                verificar=1\n",
    "                while(valor<1):\n",
    "                    valor=valor*base\n",
    "                    verificar=verificar-1\n",
    "                valor=valor/10\n",
    "                valor=valor*base**3\n",
    "                valor=math.floor(valor)\n",
    "                valor=valor*base**-3\n",
    "                return (sinal*valor,verificar)\n",
    "        else:\n",
    "            verificar=0\n",
    "            valor_t=valor\n",
    "            while(valor_t>1):\n",
    "                valor_t=valor_t/10\n",
    "                verificar=verificar+1\n",
    "            if(verificar<=limiteSuperior):\n",
    "                #print(\"valor aceito pela maquina\")\n",
    "                valor=valor*base**limiteSuperior\n",
    "                valor=math.floor(valor)\n",
    "                valor=valor*base**-limiteSuperior\n",
    "                verificar=0\n",
    "                while(valor>1):\n",
    "                    valor=valor/base\n",
    "                    verificar+=1\n",
    "                valor=valor*base**3\n",
    "                valor=math.floor(valor)\n",
    "                valor=valor*base**-3\n",
    "                return (sinal*valor,verificar)\n",
    "            else:\n",
    "                return (0,0)"
   ]
  },
  {
   "cell_type": "code",
   "execution_count": 115,
   "metadata": {},
   "outputs": [],
   "source": [
    "def simulador(A,b):\n",
    "    valor1=[]\n",
    "    exp1=[]\n",
    "    valor=[]\n",
    "    exp=[]\n",
    "    valorb=[]\n",
    "    expb=[]\n",
    "    for i in range(len(A)):\n",
    "        for j in range(len(A)):\n",
    "            aux1,aux2=truncar(A[i][j])\n",
    "            valor1.append(round(aux1,1))\n",
    "            exp1.append(aux2)\n",
    "        valor.append(valor1)\n",
    "        exp.append(exp1)\n",
    "        valor1=[]\n",
    "        exp1=[]\n",
    "        aux1,aux2=truncar(b[i])\n",
    "        valorb.append(round(aux1,1))\n",
    "        expb.append(aux2)\n",
    "    for i in range(len(A)):\n",
    "        for j in range(len(A)):\n",
    "            print(valor[i][j],' x  10 ^',exp[i][j],end=' ')\n",
    "            if(j<len(A)-1):\n",
    "                print(' + ',end=' ')\n",
    "        print('= ',valorb[i],'x 10^ ',expb[i])\n",
    "   # print('antes',A)\n",
    "    for i in range(len(A)):\n",
    "        for j in range(len(A)):\n",
    "            A[i][j]=valor[i][j]*10**exp[i][j]\n",
    "        b[i]=valorb[i]*10**expb[i]\n",
    "   # print('depoisA',A)\n",
    "    #print('depoisb',b)\n",
    "    \n",
    "        \n",
    "   \n",
    "            "
   ]
  },
  {
   "cell_type": "code",
   "execution_count": 133,
   "metadata": {},
   "outputs": [
    {
     "name": "stdout",
     "output_type": "stream",
     "text": [
      "0.2  x  10 ^ -3  +  0.2  x  10 ^ 1 =  0.5 x 10^  1\n",
      "0.2  x  10 ^ 1  +  0.2  x  10 ^ 1 =  0.6 x 10^  1\n",
      "0.2  x  10 ^ -3  +  0.2  x  10 ^ 1 =  0.5 x 10^  1\n",
      "0  x  10 ^ 0  +  -0.2  x  10 ^ 5 =  -0.5 x 10^  5\n",
      "valores que resolvem o sistema [0.  2.5]\n"
     ]
    }
   ],
   "source": [
    "A=[[0.0002,2],[2,2]]#sem pivotamento\n",
    "b=[5,6]\n",
    "booll=0\n",
    "simulador(A,b)\n",
    "eliminacao(A,b,len(b),booll)\n",
    "resolucao(A,b,len(b))\n"
   ]
  },
  {
   "cell_type": "code",
   "execution_count": 134,
   "metadata": {},
   "outputs": [
    {
     "name": "stdout",
     "output_type": "stream",
     "text": [
      "0.3  x  10 ^ 1  +  0.2  x  10 ^ 1  +  0.4  x  10 ^ 1 =  1.0 x 10^  0\n",
      "1.0  x  10 ^ 0  +  1.0  x  10 ^ 0  +  0.2  x  10 ^ 1 =  0.2 x 10^  1\n",
      "0.4  x  10 ^ 1  +  0.3  x  10 ^ 1  +  -0.2  x  10 ^ 1 =  0.3 x 10^  1\n",
      "oiii\n",
      "oiii\n",
      "oiii\n",
      "0.4  x  10 ^ 1  +  0.3  x  10 ^ 1  +  -0.2  x  10 ^ 1 =  0.3 x 10^  1\n",
      "0  x  10 ^ 0  +  0.25  x  10 ^ 0  +  0.25  x  10 ^ 1 =  0.12 x 10^  1\n",
      "0  x  10 ^ 0  +  0  x  10 ^ 0  +  0.8  x  10 ^ 1 =  0 x 10^  0\n",
      "valores que resolvem o sistema [-2.85  4.8   0.  ]\n"
     ]
    }
   ],
   "source": [
    "A = ([[3,2,4],[1,1,2],[4,3,-2] ])\n",
    "b =  ([1,2,3 ] )\n",
    "booll=1\n",
    "simulador(A,b)\n",
    "eliminacao(A,b,len(b),booll)\n",
    "resolucao(A,b,len(b))"
   ]
  }
 ],
 "metadata": {
  "anaconda-cloud": {},
  "kernelspec": {
   "display_name": "Python 3",
   "language": "python",
   "name": "python3"
  },
  "language_info": {
   "codemirror_mode": {
    "name": "ipython",
    "version": 3
   },
   "file_extension": ".py",
   "mimetype": "text/x-python",
   "name": "python",
   "nbconvert_exporter": "python",
   "pygments_lexer": "ipython3",
   "version": "3.6.5"
  }
 },
 "nbformat": 4,
 "nbformat_minor": 2
}
